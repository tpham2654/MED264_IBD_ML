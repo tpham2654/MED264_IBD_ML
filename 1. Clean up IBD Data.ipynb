{
 "cells": [
  {
   "cell_type": "code",
   "execution_count": null,
   "metadata": {},
   "outputs": [],
   "source": [
    "import seaborn as sns\n",
    "from matplotlib import pyplot as plt\n",
    "import pandas as pd\n",
    "\n",
    "df = pd.read_csv(\"./data/IBD_readm_data.csv\",index_col=0)\n",
    "df.head()"
   ]
  },
  {
   "cell_type": "code",
   "execution_count": null,
   "metadata": {},
   "outputs": [],
   "source": [
    "df.shape"
   ]
  },
  {
   "cell_type": "code",
   "execution_count": null,
   "metadata": {},
   "outputs": [],
   "source": [
    "df_copy = df.copy()"
   ]
  },
  {
   "cell_type": "code",
   "execution_count": null,
   "metadata": {},
   "outputs": [],
   "source": [
    "# Recoding the ibd_readm outcome variable\n",
    "readm_set = set()\n",
    "for index, row in df_copy[['nrd_visitlink','ibd_readm']].iterrows():\n",
    "    if row[1] == 1:\n",
    "        readm_set.add(row[0])\n",
    "        \n",
    "readm_list = list(readm_set)\n",
    "\n",
    "df_copy.loc[df_copy.nrd_visitlink.isin(readm_list), 'ibd_readm'] = 1"
   ]
  },
  {
   "cell_type": "code",
   "execution_count": null,
   "metadata": {},
   "outputs": [],
   "source": [
    "df_copy['ibd_readm'] = df_copy['ibd_readm'].fillna(0)\n",
    "# Filter the data so that only patients with an index hospitalizations are in a DataFrame\n",
    "readm_data_df = df_copy.loc[df_copy[\"ibd_index_hosp\"] == 1, :]\n",
    "\n",
    "# Check to ensure the filter worked correctly\n",
    "readm_data_df[\"ibd_index_hosp\"].count()"
   ]
  },
  {
   "cell_type": "code",
   "execution_count": null,
   "metadata": {},
   "outputs": [],
   "source": [
    "readm_data_df.dropna(axis='columns')"
   ]
  },
  {
   "cell_type": "code",
   "execution_count": null,
   "metadata": {},
   "outputs": [],
   "source": [
    "fig, ax = plt.subplots(figsize=(15,10))\n",
    "nan_proportion = readm_data_df.isna().sum().sort_values(ascending=False)/readm_data_df.shape[0]\n",
    "sns.histplot(nan_proportion)\n",
    "plt.show()"
   ]
  },
  {
   "cell_type": "code",
   "execution_count": null,
   "metadata": {},
   "outputs": [],
   "source": [
    "remove_these_columns = list(nan_proportion.loc[nan_proportion>0.25].index) + [\"dx{}\".format(i) for i in range(1,7)] + [\"_merge\",\"pr10\",\"pr12\",\"pr14\",\"pr15\",\"nrd_visitlink\",\"died\",\"death_time\",\"survtime\"] + [\"ibd_tot_readm\",\"ibdtotadm_alive_fu\" , \"was_readmitted\", \"total_adm_num\",\"ibdtotaladm_from_index\"]\n",
    "\n",
    "#pr's have too many dots, which become nans\n",
    "#nrd_visitlink looks like an internal ID of some sort\n",
    "#merge has no variance, it's all the same value\n",
    "#died, death_time, survtime is optional, probably not relevent since dead people can't be readmitted\n",
    "#\"ibd_tot_readm\",\"ibdtotadm_alive_fu\" , \"was_readmitted\", \"total_adm_num\" , \"ibdtotaladm_from_index\" are redundant with target column\n",
    "\n",
    "# Grab the features\n",
    "data = readm_data_df[[c for c in readm_data_df.columns if c not in remove_these_columns]]\n",
    "feature_names = data.columns\n",
    "data.head(25)\n",
    "\n",
    "def frailty_risk_cat_to_integer(x):\n",
    "    risk_num_dict = {\"high\":3,\"medium\":2,\"low\":1}\n",
    "    return risk_num_dict[x]\n",
    "data[\"frailty_risk_category\"] = data[\"frailty_risk_category\"].apply(lambda x:frailty_risk_cat_to_integer(x))\n",
    "\n",
    "data.dtypes.loc[data.dtypes==\"object\"]\n",
    "\n",
    "data_no_nas = data.dropna()\n",
    "target_column = \"ibd_readm\"\n",
    "data_no_nas_no_target = data_no_nas[[c for c in data_no_nas.columns if c != target_column]]\n",
    "target = data_no_nas[target_column].astype('int64')\n",
    "data_no_nas_no_target.shape"
   ]
  },
  {
   "cell_type": "code",
   "execution_count": null,
   "metadata": {},
   "outputs": [],
   "source": [
    "data_no_nas.to_csv(\"./data/IBD_data_cleaned.csv\")"
   ]
  },
  {
   "cell_type": "code",
   "execution_count": null,
   "metadata": {},
   "outputs": [],
   "source": [
    "data_no_nas.shape"
   ]
  },
  {
   "cell_type": "code",
   "execution_count": null,
   "metadata": {},
   "outputs": [],
   "source": []
  }
 ],
 "metadata": {
  "kernelspec": {
   "display_name": "Python 3",
   "language": "python",
   "name": "python3"
  },
  "language_info": {
   "codemirror_mode": {
    "name": "ipython",
    "version": 3
   },
   "file_extension": ".py",
   "mimetype": "text/x-python",
   "name": "python",
   "nbconvert_exporter": "python",
   "pygments_lexer": "ipython3",
   "version": "3.7.0"
  }
 },
 "nbformat": 4,
 "nbformat_minor": 2
}
